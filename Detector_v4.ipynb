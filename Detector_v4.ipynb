{
 "cells": [
  {
   "cell_type": "code",
   "execution_count": 1,
   "metadata": {},
   "outputs": [],
   "source": [
    "import numpy as np \n",
    "import matplotlib.pyplot as plt\n",
    "import soundfile as sf\n",
    "from scipy import signal\n",
    "\n",
    "# Para detectar sincronismo.\n",
    "from scipy import signal as sig\n",
    "import random\n",
    "import pandas as pd"
   ]
  },
  {
   "cell_type": "code",
   "execution_count": 2,
   "metadata": {},
   "outputs": [],
   "source": [
    "def texttobin(input_string):\n",
    "    bit_string=[]\n",
    "    ascii_array=bytearray(input_string,'ascii')\n",
    "    for i in ascii_array:\n",
    "        bin_char=bin(i)\n",
    "        byte=bin_char[2:]\n",
    "        byte_size=len(byte)\n",
    "        while(byte_size<8):\n",
    "            byte='0'+byte\n",
    "            byte_size=len(byte)\n",
    "        for bit in byte:\n",
    "            bit_string=np.append(bit_string,bit)\n",
    "    return bit_string"
   ]
  },
  {
   "cell_type": "code",
   "execution_count": 3,
   "metadata": {},
   "outputs": [
    {
     "name": "stdout",
     "output_type": "stream",
     "text": [
      "[1 1 1 1 0 0 1 1 1 1 1 1 0 1 0 1 0 1 1 0 0 1 1 0 1 1 1 0 1 1 0 1 0 0 1 0 0\n",
      " 1 1 1 0 0 0 1 0 1 1 1 1 0 0 1 0 1 0 0 0 1 1 0 0 0 0 1 0 0 0 0 0 0 0 1 1 1\n",
      " 1]\n",
      "<class 'numpy.ndarray'>\n",
      "75\n"
     ]
    }
   ],
   "source": [
    "# leitura de txt (header):\n",
    "\n",
    "header = open('header.txt', 'r', encoding=\"utf-8\")\n",
    "header = header.read()\n",
    "header = header.replace(\"[\", \"\")\n",
    "header = header.replace(\"]\", \"\")\n",
    "header = header.replace(\",\", \"\")\n",
    "\n",
    "header = np.fromstring(header, dtype=int, sep=' ')\n",
    "print(header)\n",
    "print(type(header))\n",
    "print(len(header))"
   ]
  },
  {
   "cell_type": "code",
   "execution_count": 4,
   "metadata": {},
   "outputs": [
    {
     "name": "stdout",
     "output_type": "stream",
     "text": [
      "75\n",
      "[1. 1. 1. 1. 0. 0. 1. 1. 1. 1. 1. 1. 0. 1. 0. 1. 0. 1. 1. 0. 0. 1. 1. 0.\n",
      " 1. 1. 1. 0. 1. 1. 0. 1. 0. 0. 1. 0. 0. 1. 1. 1. 0. 0. 0. 1. 0. 1. 1. 1.\n",
      " 1. 0. 0. 1. 0. 1. 0. 0. 0. 1. 1. 0. 0. 0. 0. 1. 0. 0. 0. 0. 0. 0. 0. 1.\n",
      " 1. 1. 1.]\n"
     ]
    },
    {
     "data": {
      "text/plain": [
       "numpy.ndarray"
      ]
     },
     "execution_count": 4,
     "metadata": {},
     "output_type": "execute_result"
    }
   ],
   "source": [
    "header = header.astype(float)  \n",
    "print(len(header))\n",
    "print(header)\n",
    "type(header)"
   ]
  },
  {
   "cell_type": "code",
   "execution_count": 5,
   "metadata": {},
   "outputs": [
    {
     "name": "stdout",
     "output_type": "stream",
     "text": [
      "Digite o número de modulações que o detector irá detectar (2 ou 4): \n",
      "2\n"
     ]
    }
   ],
   "source": [
    "print(\"Digite o número de modulações que o detector irá detectar (2 ou 4): \")\n",
    "n = input()\n",
    "n = int(n)"
   ]
  },
  {
   "cell_type": "code",
   "execution_count": 6,
   "metadata": {},
   "outputs": [
    {
     "name": "stdout",
     "output_type": "stream",
     "text": [
      "Digite a taxa de transmissão de preferência (Tb): \n",
      "20\n"
     ]
    }
   ],
   "source": [
    "print(\"Digite a taxa de transmissão de preferência (Tb): \")\n",
    "baudRate = input()\n",
    "baudRate = int(baudRate)"
   ]
  },
  {
   "cell_type": "markdown",
   "metadata": {},
   "source": [
    "# 2-FSK (se n = 2)"
   ]
  },
  {
   "cell_type": "code",
   "execution_count": 7,
   "metadata": {},
   "outputs": [
    {
     "name": "stdout",
     "output_type": "stream",
     "text": [
      "Dados do áudio:  [0.         0.99996948 0.9510498  ... 0.80899048 0.9135437  0.9781189 ]\n",
      "Tamanho dos dados:  1528801\n",
      "Sample rate of the audio:  24000\n"
     ]
    }
   ],
   "source": [
    "# Leitura de .wav\n",
    "\n",
    "data, Fs = sf.read('teste_2fsk.wav') \n",
    "print(\"Dados do áudio: \", data)\n",
    "print(\"Tamanho dos dados: \", len(data))\n",
    "print(\"Sample rate of the audio: \", Fs)"
   ]
  },
  {
   "cell_type": "code",
   "execution_count": 8,
   "metadata": {},
   "outputs": [
    {
     "name": "stdout",
     "output_type": "stream",
     "text": [
      "Amostras por símbolo:  1200.0\n"
     ]
    }
   ],
   "source": [
    "# Cálculo de up sample (amostras por símbolo).\n",
    "\n",
    "up_sample = Fs/baudRate\n",
    "print(\"Amostras por símbolo: \", up_sample)"
   ]
  },
  {
   "cell_type": "code",
   "execution_count": 9,
   "metadata": {
    "scrolled": true
   },
   "outputs": [
    {
     "name": "stdout",
     "output_type": "stream",
     "text": [
      "[1.         0.95105652 0.80901699 ... 0.58778525 0.80901699 0.95105652]\n"
     ]
    },
    {
     "data": {
      "text/plain": [
       "90032"
      ]
     },
     "execution_count": 9,
     "metadata": {},
     "output_type": "execute_result"
    }
   ],
   "source": [
    "# modulação do header.\n",
    "\n",
    "F1=800\n",
    "F2=1200\n",
    "#t_wave=np.arange(0,1/baudRate,1/Fs)         # Limita meu sinal em um tempo determinado.\n",
    "\n",
    "header_modulado = []\n",
    "tam = len(header)\n",
    "#cosseno_F1 = np.cos(2*np.pi*F1*t_wave)\n",
    "#cosseno_F2 = np.cos(2*np.pi*F2*t_wave)\n",
    "\n",
    "for i in range(0, tam, 1):\n",
    "    t_wave = np.arange((i*1/baudRate),(1/baudRate)+(i*1/baudRate),1/Fs)\n",
    "    cosseno_F1 = np.cos(2*np.pi*F1*t_wave)\n",
    "    cosseno_F2 = np.cos(2*np.pi*F2*t_wave)\n",
    "    \n",
    "    if header[i]==0:\n",
    "        x = (cosseno_F1)\n",
    "        header_modulado = np.append(header_modulado, x)\n",
    "    elif header[i]==1:\n",
    "        x = (cosseno_F2)\n",
    "        header_modulado = np.append(header_modulado, x)\n",
    "        \n",
    "print(header_modulado)\n",
    "len(header_modulado)"
   ]
  },
  {
   "cell_type": "code",
   "execution_count": 10,
   "metadata": {},
   "outputs": [
    {
     "data": {
      "text/plain": [
       "array([1.        , 0.95105652, 0.80901699, ..., 0.58778525, 0.80901699,\n",
       "       0.95105652])"
      ]
     },
     "execution_count": 10,
     "metadata": {},
     "output_type": "execute_result"
    },
    {
     "data": {
      "image/png": "[encoded data removed]",
      "text/plain": [
       "<Figure size 432x288 with 1 Axes>"
      ]
     },
     "metadata": {
      "needs_background": "light"
     },
     "output_type": "display_data"
    }
   ],
   "source": [
    "# Plot do header modulado (não deu para ver a mudança de frequência).\n",
    "\n",
    "t = np.arange(0,len(header_modulado),1)  \n",
    "fig = plt.figure()\n",
    "plt.plot(t, header_modulado)\n",
    "fig.savefig('plot.png')\n",
    "header_modulado"
   ]
  },
  {
   "cell_type": "code",
   "execution_count": 11,
   "metadata": {},
   "outputs": [],
   "source": [
    "# Aqui eu tenho que descobrir onde o sinal começa, ou seja, achar o cabeçalho e ver onde sinal começa (start_bit). \n",
    "# Isso pode ser feito com uma função de correlação (o valor deve ser máximo para o atraso estar sincronizado).\n",
    "\n",
    "corr = np.correlate(data,header_modulado,mode='valid')\n",
    "corr_position = np.argmax(corr)\n",
    "start_bit = corr_position"
   ]
  },
  {
   "cell_type": "code",
   "execution_count": 12,
   "metadata": {},
   "outputs": [
    {
     "data": {
      "image/png": "[encoded data removed]",
      "text/plain": [
       "<Figure size 432x288 with 1 Axes>"
      ]
     },
     "metadata": {
      "needs_background": "light"
     },
     "output_type": "display_data"
    }
   ],
   "source": [
    "# Plot da correlação cruzada\n",
    "\n",
    "plt.plot(corr)\n",
    "plt.title('Identificação do início do cabeçalho')\n",
    "plt.plot(corr_position,corr[corr_position],'or')\n",
    "plt.show()"
   ]
  },
  {
   "cell_type": "code",
   "execution_count": 13,
   "metadata": {},
   "outputs": [
    {
     "name": "stdout",
     "output_type": "stream",
     "text": [
      "Amostra de começo da mensagem:  217169\n"
     ]
    }
   ],
   "source": [
    "# Start bit só vamos saber depois de fazer o sincronismo.\n",
    "\n",
    "print(\"Amostra de começo da mensagem: \", start_bit)"
   ]
  },
  {
   "cell_type": "code",
   "execution_count": 15,
   "metadata": {
    "scrolled": true
   },
   "outputs": [],
   "source": [
    "# Cálculos para plotar o sinal recebido. (não é necessário, nem decisivo para a demodulação)\n",
    "\n",
    "start = start_bit #+ len(header_modulado)    # ACHO que o start_bit dá a primeira posição do header. Para achar\n",
    "                                             # onde a mensagem começa, tenho que somar isso ao tamanho do \n",
    "                                                # header. Se der errado tenta do outro jeito."
   ]
  },
  {
   "cell_type": "code",
   "execution_count": 16,
   "metadata": {},
   "outputs": [
    {
     "name": "stdout",
     "output_type": "stream",
     "text": [
      "[-0.809021   -0.95108032 -1.         ...  0.80899048  0.9135437\n",
      "  0.9781189 ]\n",
      "1311632\n"
     ]
    }
   ],
   "source": [
    "# Pegar dados a partir de onde começa a mensagem.\n",
    "\n",
    "data = data[start:]\n",
    "print(data)\n",
    "print(len(data))"
   ]
  },
  {
   "cell_type": "code",
   "execution_count": 17,
   "metadata": {},
   "outputs": [
    {
     "name": "stdout",
     "output_type": "stream",
     "text": [
      "20 0.5\n",
      "24000 12000\n",
      "[-0.809021   -0.95108032 -1.         ...  0.80899048  0.9135437\n",
      "  0.9781189 ]\n"
     ]
    },
    {
     "data": {
      "text/plain": [
       "1311632"
      ]
     },
     "execution_count": 17,
     "metadata": {},
     "output_type": "execute_result"
    }
   ],
   "source": [
    "# debug\n",
    "\n",
    "print(baudRate, 10/baudRate)\n",
    "print(Fs, int((10/baudRate)*Fs))\n",
    "print(data)\n",
    "len(data)"
   ]
  },
  {
   "cell_type": "code",
   "execution_count": 18,
   "metadata": {},
   "outputs": [],
   "source": [
    "# Construção das ondas da portadora do 2-FSK. Cada \"ramo\" com uma frequência.\n",
    "\n",
    "F1=800\n",
    "F2=1200\n",
    "t_wave=np.arange(0,1/baudRate,1/Fs)\n",
    "\n",
    "wave1=np.cos(2*np.pi*F1*t_wave)\n",
    "wave2=np.cos(2*np.pi*F2*t_wave)"
   ]
  },
  {
   "cell_type": "code",
   "execution_count": 19,
   "metadata": {},
   "outputs": [
    {
     "name": "stdout",
     "output_type": "stream",
     "text": [
      "[1.         0.95105652 0.80901699 ... 0.58778525 0.80901699 0.95105652]\n",
      "[0.95105652 0.80901699 0.58778525 ... 0.80901699 0.95105652 1.        ]\n"
     ]
    }
   ],
   "source": [
    "# debug\n",
    "\n",
    "print(wave2)\n",
    "print(np.flip(wave2))       # Precisa-se inverter pq o filtro casado é h(-t)."
   ]
  },
  {
   "cell_type": "code",
   "execution_count": 20,
   "metadata": {},
   "outputs": [],
   "source": [
    "# Aplicação do filtro casado + média móvel.\n",
    "\n",
    "casado_1=np.convolve(data,np.flip(wave1))\n",
    "casado_1=np.convolve(np.abs(casado_1),np.ones((int(len(t_wave)/2))))\n",
    "casado_2=np.convolve(data,np.flip(wave2))\n",
    "casado_2=np.convolve(np.abs(casado_2),np.ones((int(len(t_wave)/2))))"
   ]
  },
  {
   "cell_type": "code",
   "execution_count": 21,
   "metadata": {},
   "outputs": [
    {
     "data": {
      "text/plain": [
       "1313430"
      ]
     },
     "execution_count": 21,
     "metadata": {},
     "output_type": "execute_result"
    }
   ],
   "source": [
    "# debug\n",
    "\n",
    "len(casado_1)            # PORQUE depois da convolução o vetor aumenta de tamanho?"
   ]
  },
  {
   "cell_type": "code",
   "execution_count": 22,
   "metadata": {},
   "outputs": [
    {
     "data": {
      "text/plain": [
       "1094"
      ]
     },
     "execution_count": 22,
     "metadata": {},
     "output_type": "execute_result"
    }
   ],
   "source": [
    "# Amostragem do filtro casado a cada período de bit. Pego só última amostra para representar meu símbolo.\n",
    "# Por causa da média móvel e da envoltória, esse ponto que eu pegar vai ser meu símbolo.\n",
    "\n",
    "t = np.arange(0,len(data)/Fs,1/Fs)\n",
    "\n",
    "step=int(Fs/baudRate)\n",
    "\n",
    "amostra_casado1=casado_1[step::step]\n",
    "amostra_casado2=casado_2[step::step]\n",
    "\n",
    "t_amostra=np.arange(step/Fs,t[-1]+step/Fs,step/Fs)\n",
    "len(t_amostra)"
   ]
  },
  {
   "cell_type": "code",
   "execution_count": 26,
   "metadata": {},
   "outputs": [
    {
     "name": "stdout",
     "output_type": "stream",
     "text": [
      "1094\n"
     ]
    },
    {
     "data": {
      "text/plain": [
       "1094"
      ]
     },
     "execution_count": 26,
     "metadata": {},
     "output_type": "execute_result"
    }
   ],
   "source": [
    "print(len(t_amostra))\n",
    "len(amostra_casado1)\n",
    "#step"
   ]
  },
  {
   "cell_type": "code",
   "execution_count": 24,
   "metadata": {},
   "outputs": [
    {
     "name": "stdout",
     "output_type": "stream",
     "text": [
      "1313430\n"
     ]
    },
    {
     "data": {
      "text/plain": [
       "array([0.00000000e+00, 4.16666667e-05, 8.33333333e-05, ...,\n",
       "       5.46512083e+01, 5.46512500e+01, 5.46512917e+01])"
      ]
     },
     "execution_count": 24,
     "metadata": {},
     "output_type": "execute_result"
    }
   ],
   "source": [
    "print(len(casado_1))\n",
    "t"
   ]
  },
  {
   "cell_type": "code",
   "execution_count": 27,
   "metadata": {},
   "outputs": [
    {
     "data": {
      "image/png": "[encoded data removed]",
      "text/plain": [
       "<Figure size 432x288 with 2 Axes>"
      ]
     },
     "metadata": {
      "needs_background": "light"
     },
     "output_type": "display_data"
    }
   ],
   "source": [
    "# Plot da saída dos filtros casados.\n",
    "\n",
    "t = np.arange(0,len(data)/Fs,1/Fs) \n",
    "\n",
    "fig, axs = plt.subplots(2)\n",
    "fig.suptitle('Saída dos filtros casados')\n",
    "axs[0].plot(t,casado_1[0:len(t)])\n",
    "axs[0].plot(t_amostra,amostra_casado1[0:len(t_amostra)],'or')\n",
    "axs[1].plot(t,casado_2[0:len(t)])\n",
    "axs[1].plot(t_amostra,amostra_casado2[0:len(t_amostra)],'or')\n",
    "plt.show()\n",
    "fig.savefig('saida_casada.png')"
   ]
  },
  {
   "cell_type": "code",
   "execution_count": 28,
   "metadata": {},
   "outputs": [
    {
     "name": "stdout",
     "output_type": "stream",
     "text": [
      "1200\n"
     ]
    },
    {
     "data": {
      "text/plain": [
       "array([6.87504221e+03, 2.69195521e-10, 2.69195521e-10, ...,\n",
       "       2.27293879e+05, 6.30972351e+04, 2.44107005e+03])"
      ]
     },
     "execution_count": 28,
     "metadata": {},
     "output_type": "execute_result"
    }
   ],
   "source": [
    "# debug\n",
    "\n",
    "print(step)\n",
    "amostra_casado2"
   ]
  },
  {
   "cell_type": "code",
   "execution_count": 29,
   "metadata": {},
   "outputs": [
    {
     "name": "stdout",
     "output_type": "stream",
     "text": [
      "[0, 0, 0, 0, 0, 0, 1, 1, 0, 0, 1, 0, 0, 0, 1, 1, 0, 0, 1, 0, 1, 0, 1, 1, 1, 0, 0, 1, 1, 0, 1, 1, 1, 0, 1, 0, 0, 0, 1, 1, 0, 0, 0, 0, 1, 0, 1, 1, 1, 0, 0, 1, 1, 0, 0, 1, 0, 1, 1, 0, 0, 0, 0, 1, 0, 0, 0, 0, 0, 0, 1, 1, 1, 0, 1, 1, 0, 0, 1, 1, 0, 1, 0, 0, 1, 0, 1, 1, 0, 1, 1, 1, 0, 0, 1, 1, 0, 0, 1, 0, 0, 0, 1, 1, 0, 1, 1, 1, 1, 0, 0, 1, 0, 0, 0, 0, 0, 0, 1, 1, 0, 0, 1, 0, 0, 0, 1, 1, 0, 0, 0, 0, 1, 0, 0, 1, 0, 0, 0, 0, 0, 0, 1, 1, 0, 0, 0, 1, 1, 0, 1, 1, 0, 1, 0, 0, 1, 0, 1, 1, 0, 0, 1, 0, 0, 0, 1, 1, 0, 0, 0, 0, 1, 0, 1, 1, 0, 0, 1, 0, 0, 0, 1, 1, 0, 0, 1, 0, 1, 0, 0, 1, 0, 0, 0, 0, 0, 0, 1, 1, 1, 0, 0, 0, 0, 0, 1, 1, 0, 0, 0, 0, 1, 0, 1, 1, 1, 0, 0, 1, 0, 0, 1, 1, 0, 0, 0, 0, 1, 0, 0, 1, 0, 0, 0, 0, 0, 0, 1, 1, 0, 1, 1, 1, 1, 0, 0, 1, 0, 0, 0, 0, 0, 0, 1, 0, 0, 0, 1, 0, 1, 0, 1, 1, 0, 1, 1, 1, 0, 0, 1, 1, 0, 0, 1, 1, 1, 0, 1, 1, 0, 0, 1, 0, 1, 0, 1, 1, 0, 1, 1, 1, 0, 0, 1, 1, 0, 1, 0, 0, 0, 0, 1, 1, 0, 1, 1, 1, 1, 0, 0, 1, 0, 0, 0, 0, 0, 0, 1, 0, 0, 1, 1, 1, 0, 0, 1, 1, 0, 1, 1, 1, 1, 0, 1, 1, 1, 0, 1, 1, 0, 0, 1, 1, 0, 1, 1, 1, 1, 0, 0, 1, 0, 1, 1, 0, 0, 0, 0, 1, 0, 0, 0, 0, 0, 0, 1, 1, 0, 0, 1, 0, 1, 0, 1, 1, 0, 1, 1, 1, 0, 0, 1, 1, 0, 0, 0, 1, 1, 0, 1, 1, 0, 1, 1, 1, 1, 0, 1, 1, 0, 1, 1, 1, 0, 0, 1, 1, 1, 0, 1, 0, 0, 0, 1, 1, 1, 0, 0, 1, 0, 0, 1, 1, 0, 0, 1, 0, 1, 0, 1, 1, 0, 1, 0, 0, 1, 0, 0, 1, 0, 0, 0, 0, 0, 0, 1, 1, 0, 1, 1, 1, 0, 0, 1, 1, 1, 0, 1, 0, 1, 0, 1, 1, 0, 1, 1, 0, 1, 0, 0, 1, 0, 0, 0, 0, 0, 0, 1, 1, 1, 0, 1, 0, 0, 0, 1, 1, 1, 0, 0, 1, 0, 0, 1, 1, 0, 0, 1, 0, 1, 0, 1, 1, 0, 1, 1, 0, 1, 0, 0, 1, 0, 0, 0, 0, 0, 0, 1, 1, 0, 0, 1, 0, 0, 0, 1, 1, 0, 0, 0, 0, 1, 0, 0, 1, 0, 0, 0, 0, 0, 0, 1, 0, 0, 0, 0, 1, 1, 0, 1, 1, 0, 0, 1, 0, 1, 0, 1, 1, 0, 1, 1, 1, 0, 0, 1, 1, 1, 0, 1, 0, 0, 0, 1, 1, 1, 0, 0, 1, 0, 0, 1, 1, 0, 0, 0, 0, 1, 0, 1, 1, 0, 1, 1, 0, 0, 0, 0, 1, 0, 0, 0, 0, 0, 0, 1, 1, 1, 0, 1, 0, 1, 0, 1, 1, 0, 1, 1, 0, 1, 0, 0, 1, 0, 0, 0, 0, 0, 0, 1, 1, 1, 0, 0, 1, 0, 0, 1, 1, 0, 0, 0, 0, 1, 0, 1, 1, 1, 0, 0, 0, 0, 0, 1, 1, 0, 0, 0, 0, 1, 0, 1, 1, 1, 1, 0, 1, 0, 0, 0, 1, 0, 0, 0, 0, 0, 0, 1, 1, 0, 0, 0, 0, 1, 0, 1, 1, 1, 0, 0, 0, 1, 0, 1, 1, 1, 0, 1, 0, 1, 0, 1, 1, 0, 1, 0, 0, 1, 0, 0, 1, 0, 0, 0, 0, 0, 0, 1, 1, 0, 0, 1, 0, 0, 0, 1, 1, 0, 1, 1, 1, 1, 0, 0, 1, 0, 0, 0, 0, 0, 0, 1, 1, 0, 0, 0, 1, 0, 0, 1, 1, 0, 0, 0, 0, 1, 0, 1, 1, 0, 1, 0, 0, 1, 0, 1, 1, 1, 0, 0, 1, 0, 0, 1, 1, 1, 0, 0, 1, 0, 0, 1, 1, 0, 1, 1, 1, 1, 0, 0, 1, 0, 1, 1, 0, 0, 0, 0, 1, 0, 0, 0, 0, 0, 0, 1, 1, 1, 0, 0, 0, 1, 0, 1, 1, 1, 0, 1, 0, 1, 0, 1, 1, 0, 0, 1, 0, 1, 0, 0, 1, 0, 0, 0, 0, 0, 0, 1, 1, 0, 0, 1, 0, 1, 0, 1, 1, 1, 0, 1, 0, 1, 0, 0, 1, 0, 0, 0, 0, 0, 0, 1, 1, 0, 0, 0, 1, 1, 0, 1, 1, 0, 1, 1, 1, 1, 0, 1, 1, 0, 1, 1, 1, 0, 0, 1, 1, 0, 1, 0, 0, 0, 0, 1, 1, 0, 0, 1, 0, 1, 0, 1, 1, 0, 0, 0, 1, 1, 0, 1, 1, 0, 1, 1, 1, 1, 0, 0, 1, 0, 0, 0, 0, 0, 0, 1, 1, 0, 0, 1, 0, 0, 0, 1, 1, 0, 0, 1, 0, 1, 0, 0, 1, 0, 0, 0, 0, 0, 0, 1, 1, 1, 0, 1, 1, 0, 0, 1, 1, 0, 1, 0, 0, 1, 0, 1, 1, 1, 0, 0, 1, 1, 0, 1, 1, 1, 0, 1, 0, 0, 0, 1, 1, 0, 0, 0, 0, 1, 0, 0, 1, 0, 0, 0, 0, 0, 0, 1, 1, 0, 0, 1, 0, 1, 0, 0, 1, 0, 0, 0, 0, 0, 0, 1, 1, 0, 0, 1, 0, 0, 0, 1, 1, 0, 0, 1, 0, 1, 0, 0, 1, 0, 0, 0, 0, 0, 0, 1, 1, 0, 0, 0, 1, 1, 0, 1, 1, 0, 1, 0, 0, 0, 0, 1, 1, 0, 0, 0, 0, 1, 0, 1, 1, 1, 0, 0, 0, 0, 0, 1, 1, 0, 0, 1, 0, 1, 0, 1, 1, 1, 0, 1, 0, 1, 0, 0, 1, 0, 1, 1, 1, 0, 0]\n"
     ]
    }
   ],
   "source": [
    "# Coparação posição a posição do vetor de saída de cada filtro.\n",
    "\n",
    "a1 = len(amostra_casado1)\n",
    "a2 = len(amostra_casado2)\n",
    "vetor_final = []\n",
    "for i in range(0, a1, 1):\n",
    "    if amostra_casado1[i]>amostra_casado2[i]:\n",
    "        vetor_final.append(0)\n",
    "    elif amostra_casado1[i]<amostra_casado2[i]:\n",
    "        vetor_final.append(1)\n",
    "        \n",
    "print(vetor_final)"
   ]
  },
  {
   "cell_type": "code",
   "execution_count": 30,
   "metadata": {},
   "outputs": [
    {
     "data": {
      "text/plain": [
       "1094"
      ]
     },
     "execution_count": 30,
     "metadata": {},
     "output_type": "execute_result"
    }
   ],
   "source": [
    "len(vetor_final)"
   ]
  },
  {
   "cell_type": "markdown",
   "metadata": {},
   "source": [
    "# 4FSK ( se n = 4)"
   ]
  },
  {
   "cell_type": "code",
   "execution_count": 27,
   "metadata": {},
   "outputs": [],
   "source": [
    "# Portadoras da 4-FSK\n",
    "\n",
    "F1=600\n",
    "F2=800\n",
    "F3=1000\n",
    "F4=1200\n",
    "\n",
    "t_wave=np.arange(0,1/baudRate,1/Fs)\n",
    "\n",
    "wave1=np.cos(2*np.pi*F1*t_wave)\n",
    "wave2=np.cos(2*np.pi*F2*t_wave)\n",
    "wave3=np.cos(2*np.pi*F3*t_wave)\n",
    "wave4=np.cos(2*np.pi*F4*t_wave)"
   ]
  },
  {
   "cell_type": "code",
   "execution_count": 28,
   "metadata": {},
   "outputs": [
    {
     "data": {
      "image/png": "[encoded data removed]",
      "text/plain": [
       "<Figure size 432x288 with 4 Axes>"
      ]
     },
     "metadata": {
      "needs_background": "light"
     },
     "output_type": "display_data"
    }
   ],
   "source": [
    "#Apresentação das portadoras\n",
    "fig, axs = plt.subplots(2,2,constrained_layout=True)\n",
    "fig.suptitle('Portadoras 4-FSK')\n",
    "axs[0,0].plot(t_wave,wave1)\n",
    "axs[0,0].set_title('Portadora do símbolo 00 - 600 Hz')\n",
    "axs[0,1].plot(t_wave,wave2)\n",
    "axs[0,1].set_title('Portadora do símbolo 01 - 800 Hz')\n",
    "axs[1,0].plot(t_wave,wave3)\n",
    "axs[1,0].set_title('Portadora do símbolo 10 - 1000 Hz')\n",
    "axs[1,1].plot(t_wave,wave4)\n",
    "axs[1,1].set_title('Portadora do símbolo 11 - 1200 Hz')\n",
    "plt.show()"
   ]
  },
  {
   "cell_type": "code",
   "execution_count": 29,
   "metadata": {},
   "outputs": [
    {
     "name": "stdout",
     "output_type": "stream",
     "text": [
      "Dados do áudio:  [0.         0.99996948 0.96591187 ... 0.58776855 0.80899048 0.9510498 ]\n",
      "Tamanho dos dados:  764401\n",
      "Sample rate of the audio:  24000\n"
     ]
    }
   ],
   "source": [
    "# Leitura de .wav\n",
    "\n",
    "data, Fs = sf.read('teste_4fsk.wav') \n",
    "print(\"Dados do áudio: \", data)\n",
    "print(\"Tamanho dos dados: \", len(data))\n",
    "print(\"Sample rate of the audio: \", Fs)"
   ]
  },
  {
   "cell_type": "code",
   "execution_count": null,
   "metadata": {},
   "outputs": [],
   "source": [
    "# Modulação do header. No caso do 4fsk, a gente precisa agrupar de dois em dois bits para representar cada \n",
    "# simbolo. Depois fazemos uma modulação.\n",
    "\n",
    "F1=800\n",
    "F2=1200                                     # FAZER - A MESMA IDEIA PARA OS 4 SIMBOLOS.\n",
    "F3=\n",
    "F4=\n",
    "#t_wave=np.arange(0,1/baudRate,1/Fs)         # Limita meu sinal em um tempo determinado.\n",
    "\n",
    "header_modulado = []\n",
    "tam = len(header)\n",
    "#cosseno_F1 = np.cos(2*np.pi*F1*t_wave)\n",
    "#cosseno_F2 = np.cos(2*np.pi*F2*t_wave)\n",
    "\n",
    "for i in range(0, tam, 1):\n",
    "    t_wave = np.arange((i*1/baudRate),(1/baudRate)+(i*1/baudRate),1/Fs)\n",
    "    cosseno_F1 = np.cos(2*np.pi*F1*t_wave)\n",
    "    cosseno_F2 = np.cos(2*np.pi*F2*t_wave)\n",
    "    \n",
    "    if header[i]==0:\n",
    "        x = (cosseno_F1)\n",
    "        header_modulado = np.append(header_modulado, x)\n",
    "    elif header[i]==1:\n",
    "        x = (cosseno_F2)\n",
    "        header_modulado = np.append(header_modulado, x)\n",
    "        \n",
    "print(header_modulado)\n",
    "len(header_modulado)"
   ]
  },
  {
   "cell_type": "code",
   "execution_count": 31,
   "metadata": {},
   "outputs": [],
   "source": [
    "# Aqui eu tenho que descobrir onde o sinal começa, ou seja, achar o cabeçalho e ver onde sinal começa (start_bit). \n",
    "# Isso pode ser feito com uma função de correlação (o valor deve ser máximo para o atraso estar sincronizado).\n",
    "\n",
    "corr = np.correlate(data,header,mode='valid')\n",
    "corr_position = np.argmax(corr)\n",
    "start_bit = corr_position"
   ]
  },
  {
   "cell_type": "code",
   "execution_count": 32,
   "metadata": {},
   "outputs": [
    {
     "data": {
      "image/png": "[encoded data removed]",
      "text/plain": [
       "<Figure size 432x288 with 1 Axes>"
      ]
     },
     "metadata": {
      "needs_background": "light"
     },
     "output_type": "display_data"
    }
   ],
   "source": [
    "#Plot da correlação cruzada\n",
    "\n",
    "plt.plot(corr)\n",
    "plt.title('Identificação do início do cabeçalho')\n",
    "plt.plot(corr_position,corr[corr_position],'or')\n",
    "plt.show()"
   ]
  },
  {
   "cell_type": "code",
   "execution_count": 33,
   "metadata": {},
   "outputs": [
    {
     "name": "stdout",
     "output_type": "stream",
     "text": [
      "Bit de começo da mensagem:  10346\n"
     ]
    }
   ],
   "source": [
    "# Start bit só vamos saber depois de fazer o sincronismo.\n",
    "\n",
    "print(\"Bit de começo da mensagem: \", start_bit)"
   ]
  },
  {
   "cell_type": "code",
   "execution_count": 34,
   "metadata": {},
   "outputs": [],
   "source": [
    "casado_1=np.convolve(data,np.flip(wave1))\n",
    "casado_2=np.convolve(data,np.flip(wave2))\n",
    "casado_3=np.convolve(data,np.flip(wave3))\n",
    "casado_4=np.convolve(data,np.flip(wave4))"
   ]
  },
  {
   "cell_type": "code",
   "execution_count": 35,
   "metadata": {},
   "outputs": [],
   "source": [
    "#Amostragem do filtro casado a cada período de bit\n",
    "step=int(Fs/baudRate)\n",
    "\n",
    "amostra_casado1=casado_1[step::step]\n",
    "amostra_casado2=casado_2[step::step]\n",
    "amostra_casado3=casado_3[step::step]\n",
    "amostra_casado4=casado_4[step::step]\n",
    "t_amostra=np.arange(step/Fs,t[-1]+step/Fs,step/Fs)"
   ]
  },
  {
   "cell_type": "code",
   "execution_count": 36,
   "metadata": {},
   "outputs": [
    {
     "data": {
      "image/png": "[encoded data removed]",
      "text/plain": [
       "<Figure size 432x288 with 4 Axes>"
      ]
     },
     "metadata": {
      "needs_background": "light"
     },
     "output_type": "display_data"
    }
   ],
   "source": [
    "fig, axs = plt.subplots(4)\n",
    "fig.suptitle('Saída dos filtros casados')\n",
    "axs[0].plot(t,casado_1[0:len(t)])\n",
    "axs[0].plot(t_amostra,amostra_casado1,'or')\n",
    "axs[1].plot(t,casado_2[0:len(t)])\n",
    "axs[1].plot(t_amostra,amostra_casado2,'or')\n",
    "axs[2].plot(t,casado_3[0:len(t)])\n",
    "axs[2].plot(t_amostra,amostra_casado3,'or')\n",
    "axs[3].plot(t,casado_4[0:len(t)])\n",
    "axs[3].plot(t_amostra,amostra_casado4,'or')\n",
    "plt.show()"
   ]
  },
  {
   "cell_type": "code",
   "execution_count": null,
   "metadata": {},
   "outputs": [],
   "source": [
    "# Coparação posição a posição do vetor de saída de cada filtro.\n",
    "\n",
    "a1 = len(amostra_casado1)\n",
    "a2 = len(amostra_casado2)\n",
    "vetor_final4 = []\n",
    "\n",
    "for i in range(0, a1, 1):\n",
    "    if amostra_casado1[i]>amostra_casado2[i]:        # FAZER - COMPARAR ENTRE OS 4.\n",
    "        vetor_final4.append(0)\n",
    "    elif amostra_casado1[i]<amostra_casado2[i]:\n",
    "        vetor_final4.append(1)\n",
    "        \n",
    "print(vetor_final4)"
   ]
  }
 ],
 "metadata": {
  "kernelspec": {
   "display_name": "Python 3",
   "language": "python",
   "name": "python3"
  },
  "language_info": {
   "codemirror_mode": {
    "name": "ipython",
    "version": 3
   },
   "file_extension": ".py",
   "mimetype": "text/x-python",
   "name": "python",
   "nbconvert_exporter": "python",
   "pygments_lexer": "ipython3",
   "version": "3.7.1"
  }
 },
 "nbformat": 4,
 "nbformat_minor": 2
}
